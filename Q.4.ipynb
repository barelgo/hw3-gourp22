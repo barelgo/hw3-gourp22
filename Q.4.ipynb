{
 "cells": [
  {
   "cell_type": "code",
   "execution_count": null,
   "metadata": {},
   "outputs": [],
   "source": [
    "df['Latitude'] = df['Latitude'].astype('float64')\n",
    "df['Longitude'] = df['Longitude'].astype('float64')"
   ]
  },
  {
   "cell_type": "code",
   "execution_count": null,
   "metadata": {},
   "outputs": [],
   "source": [
    "pos = [] # list that will contain all the lats and longs of df\n",
    "#for lat, long in df.itertuples(index=False):\n",
    "for lat, long in zip(df.Latitude, df.Longitude): \n",
    "    tmp = [] # temporary list containing lat and long for each city\n",
    "    tmp.append(lat)\n",
    "    tmp.append(long)\n",
    "    pos.append(tmp) # appending tmp list to the main list\n",
    "# radius amount (in km)\n",
    "dist = 50"
   ]
  },
  {
   "cell_type": "code",
   "execution_count": null,
   "metadata": {},
   "outputs": [],
   "source": [
    "import folium as fl\n",
    "from geopy import distance"
   ]
  },
  {
   "cell_type": "code",
   "execution_count": null,
   "metadata": {},
   "outputs": [],
   "source": [
    "# creating map m with location at latitude la and longitude lo, as we defined earlier\n",
    "m = fl.Map(location=[la, lo], zoom_start=12)\n",
    "tooltip = 'Click me!'\n",
    "# loop on all the position of df\n",
    "for loc in pos:\n",
    "    dis = distance.distance([la, lo], loc).km # calculating distance between 'our' location and each location in df\n",
    "    fl.Marker([la, lo], icon=fl.Icon(color='red')).add_to(m) # placing our position on map m (red color)\n",
    "    if dis <= dist: # if distance is less or equal to max radius\n",
    "        fl.Marker(loc, tooltip=tooltip).add_to(m) # placing marker of each house in the df with distance less or equal to dist\n",
    "m"
   ]
  },
  {
   "cell_type": "code",
   "execution_count": null,
   "metadata": {},
   "outputs": [],
   "source": [
    "# creating the radius on the map\n",
    "fl.Circle(\n",
    "    location=[la, lo],\n",
    "    radius=dist*1000, # must be multiplied because is in meters\n",
    "    fill=True,\n",
    "    fill_color='#3186cc'\n",
    ").add_to(m)\n",
    "m"
   ]
  }
 ],
 "metadata": {
  "kernelspec": {
   "display_name": "Python 3",
   "language": "python",
   "name": "python3"
  },
  "language_info": {
   "codemirror_mode": {
    "name": "ipython",
    "version": 3
   },
   "file_extension": ".py",
   "mimetype": "text/x-python",
   "name": "python",
   "nbconvert_exporter": "python",
   "pygments_lexer": "ipython3",
   "version": "3.6.5"
  }
 },
 "nbformat": 4,
 "nbformat_minor": 2
}

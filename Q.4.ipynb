{
 "cells": [
  {
   "cell_type": "code",
   "execution_count": null,
   "metadata": {},
   "outputs": [],
   "source": [
    "# here should go a list with all the lat and long of df\n",
    "pos = [[29.436481437867897, -98.4666852478495], [29.4653267855394, -98.35323424293291], [29.450142491185602, -98.5053329219224]]\n",
    "# radius amount (in km)\n",
    "\n",
    "dist = 50"
   ]
  },
  {
   "cell_type": "code",
   "execution_count": null,
   "metadata": {},
   "outputs": [],
   "source": [
    "import folium as fl\n",
    "from geopy import distance"
   ]
  },
  {
   "cell_type": "code",
   "execution_count": null,
   "metadata": {},
   "outputs": [],
   "source": [
    "# creating map m with location at latitude la and longitude lo, as we defined earlier\n",
    "m = fl.Map(location=[la, lo], zoom_start=12)\n",
    "# loop on all the position of df\n",
    "for loc in pos:\n",
    "    dis = distance.distance([la, lo], loc).km # calculating distance between 'our' location and each location in df\n",
    "    fl.Marker([la, lo], popup='<i>Mt. Hood Meadows</i>', icon=fl.Icon(color='red')).add_to(m) # placing our position on map m (red color)\n",
    "    if dis <= dist: # if distance is less or equal to max radius\n",
    "        fl.Marker(loc, popup='<i>Mt. Hood Meadows</i>', tooltip=tooltip).add_to(m) # placing marker of each house in the df\n",
    "\n",
    "m"
   ]
  },
  {
   "cell_type": "code",
   "execution_count": null,
   "metadata": {},
   "outputs": [],
   "source": [
    "# creating the radius on the map\n",
    "fl.Circle(\n",
    "    location=[la, lo],\n",
    "    radius=dist*1000, # must be multiplied because is in meters\n",
    "    fill=True,\n",
    "    fill_color='#3186cc'\n",
    ").add_to(m)\n",
    "m"
   ]
  }
 ],
 "metadata": {
  "kernelspec": {
   "display_name": "Python 3",
   "language": "python",
   "name": "python3"
  },
  "language_info": {
   "codemirror_mode": {
    "name": "ipython",
    "version": 3
   },
   "file_extension": ".py",
   "mimetype": "text/x-python",
   "name": "python",
   "nbconvert_exporter": "python",
   "pygments_lexer": "ipython3",
   "version": "3.6.5"
  }
 },
 "nbformat": 4,
 "nbformat_minor": 2
}

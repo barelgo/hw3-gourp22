{
 "cells": [
  {
   "cell_type": "code",
   "execution_count": 1,
   "metadata": {},
   "outputs": [],
   "source": [
    "import numpy as np\n",
    "import pandas as pd\n",
    "import csv\n",
    "import nltk\n",
    "import string\n",
    "import re\n",
    "from nltk.tokenize import sent_tokenize, word_tokenize\n",
    "from nltk.corpus import stopwords\n",
    "sno = nltk.stem.SnowballStemmer('english')"
   ]
  },
  {
   "cell_type": "code",
   "execution_count": 2,
   "metadata": {},
   "outputs": [],
   "source": [
    "import os\n",
    "\n",
    "path, dirs, files = next(os.walk(\"directory\"))\n",
    "file_count = len(files)"
   ]
  },
  {
   "cell_type": "markdown",
   "metadata": {},
   "source": [
    "# Creating a full corpus of with all the words appeared in the descriptions and the titles"
   ]
  },
  {
   "cell_type": "code",
   "execution_count": 3,
   "metadata": {},
   "outputs": [],
   "source": [
    "corpus = []\n",
    "for i in range(file_count):\n",
    "    filename = 'directory/doc_{}.tsv'.format(i+1)\n",
    "    with open(filename) as tsvfile:\n",
    "        reader = csv.reader(tsvfile, delimiter='\\t')\n",
    "        document = []\n",
    "        for row in reader:\n",
    "            document.append(row)\n",
    "        corpus.append(document[4][0] + document[7][0])"
   ]
  },
  {
   "cell_type": "code",
   "execution_count": 4,
   "metadata": {},
   "outputs": [],
   "source": [
    "#data cleaning of the corpus and tokenization\n",
    "lista = []\n",
    "for i in range(len(corpus)):\n",
    "    try:\n",
    "        m_raw = corpus[i]\n",
    "        #replace $ with dollar\n",
    "        m = re.sub('[$]','dollar',m_raw)\n",
    "        # replace new line symbols with whitespace\n",
    "        m = m.replace('\\\\r', ' ').replace('\\\\n', ' ')\n",
    "        #remove punctuations with 2 ways\n",
    "        #m = ''.join([c for c in m if c not in string.punctuation])\n",
    "        m = re.sub('[%s]' % re.escape(string.punctuation), ' ', m)\n",
    "        # seperate numbers from words\n",
    "        m = re.sub(r'(?<=[\\d+])(?=[a-zA-Z_])', r' ', m)\n",
    "        # remove digits from messages\n",
    "        #m = ''.join(c for c in m if not c.isdigit())\n",
    "        m_new = nltk.tokenize.word_tokenize(m)\n",
    "        #remove stopwords\n",
    "        m_new = [word for word in m_new if word.lower() not in stopwords.words('english')]\n",
    "        #stemming of words\n",
    "        m_final = [sno.stem(word) for word in m_new]\n",
    "        lista.append(m_final)\n",
    "    except:\n",
    "        print(i)"
   ]
  },
  {
   "cell_type": "code",
   "execution_count": 5,
   "metadata": {},
   "outputs": [],
   "source": [
    "#flatten the list for every word occurence\n",
    "lista_flatten = [y for x in lista for y in x]"
   ]
  },
  {
   "cell_type": "code",
   "execution_count": 6,
   "metadata": {},
   "outputs": [],
   "source": [
    "#create a dictionary with all the words counts sorted by frequency\n",
    "from collections import Counter\n",
    "c = Counter(lista_flatten)\n",
    "c= dict(c.most_common())"
   ]
  },
  {
   "cell_type": "code",
   "execution_count": 7,
   "metadata": {},
   "outputs": [],
   "source": [
    "final_dict = {str(i+1):x for i,x in enumerate(c)}\n",
    "final_dict_inv = {str(x):(i+1) for i,x in enumerate(c)}"
   ]
  },
  {
   "cell_type": "markdown",
   "metadata": {},
   "source": [
    "## Index dictionary with all the words appeared in each document"
   ]
  },
  {
   "cell_type": "code",
   "execution_count": 8,
   "metadata": {},
   "outputs": [],
   "source": [
    "indx = {}\n",
    "for n,document in enumerate(lista):\n",
    "    new_document = []\n",
    "    for word in document:\n",
    "        new_document.append(final_dict_inv[str(word)])\n",
    "    indx[str(n+1)] = new_document  "
   ]
  },
  {
   "cell_type": "markdown",
   "metadata": {},
   "source": [
    "## Inverse index dictionary with all the documents each word existing"
   ]
  },
  {
   "cell_type": "code",
   "execution_count": 16,
   "metadata": {
    "scrolled": true
   },
   "outputs": [],
   "source": [
    "inv_indx = {str(i):[] for i in list(final_dict.keys())}\n",
    "for word in list(final_dict.keys()):\n",
    "    for i in range(len(indx)):\n",
    "        if int(word) in indx[str(i+1)]:\n",
    "            inv_indx[word].append(i+1)"
   ]
  },
  {
   "cell_type": "code",
   "execution_count": null,
   "metadata": {},
   "outputs": [],
   "source": [
    "import json\n",
    "\n",
    "with open('regular_index.json', 'w') as fp:\n",
    "    json.dump(indx, fp)\n",
    "\n",
    "with open('inverted_index.json', 'w') as fp:\n",
    "    json.dump(inv_indx, fp)\n",
    "    \n",
    "with open('words_transformation.json', 'w') as fp:\n",
    "    json.dump(final_dict, fp)    \n",
    "    \n",
    "with open('words_inverse_transformation.json', 'w') as fp:\n",
    "    json.dump(final_dict_inv, fp) "
   ]
  },
  {
   "cell_type": "code",
   "execution_count": 19,
   "metadata": {},
   "outputs": [],
   "source": [
    "query = 'a beautiful house with garden and beach'"
   ]
  },
  {
   "cell_type": "markdown",
   "metadata": {},
   "source": [
    "# Cleaning and tokenization of the query"
   ]
  },
  {
   "cell_type": "code",
   "execution_count": 20,
   "metadata": {},
   "outputs": [],
   "source": [
    "m_raw = query\n",
    "#replace $ with dollar\n",
    "m = re.sub('[$]','dollar',m_raw)\n",
    "# replace new line symbols with whitespace\n",
    "m = m.replace('\\\\r', ' ').replace('\\\\n', ' ')\n",
    "#remove punctuations with 2 ways\n",
    "#m = ''.join([c for c in m if c not in string.punctuation])\n",
    "m = re.sub('[%s]' % re.escape(string.punctuation), ' ', m)\n",
    "# seperate numbers from words\n",
    "m = re.sub(r'(?<=[\\d+])(?=[a-zA-Z_])', r' ', m)\n",
    "# remove digits from messages\n",
    "#m = ''.join(c for c in m if not c.isdigit())\n",
    "m_new = nltk.tokenize.word_tokenize(m)\n",
    "#remove stopwords\n",
    "m_new = [word for word in m_new if word.lower() not in stopwords.words('english')]\n",
    "#stemming of words\n",
    "q = [sno.stem(word) for word in m_new]\n"
   ]
  },
  {
   "cell_type": "markdown",
   "metadata": {},
   "source": [
    "# Mapping the query words to the final_dictionary integer values"
   ]
  },
  {
   "cell_type": "code",
   "execution_count": 21,
   "metadata": {},
   "outputs": [],
   "source": [
    "q_new = [final_dict_inv[str(element)] for element in q if element in list(final_dict.values())]\n",
    "documents = [inv_indx[str(term)] for term in q_new]\n",
    "documents_final = set([y for x in documents for y in x])"
   ]
  },
  {
   "cell_type": "markdown",
   "metadata": {},
   "source": [
    "# Create to final dataframe for the search enginee"
   ]
  },
  {
   "cell_type": "code",
   "execution_count": 22,
   "metadata": {},
   "outputs": [],
   "source": [
    "cols=['Title','Description','City','Url']\n",
    "df = pd.DataFrame([])\n",
    "for i in documents_final:\n",
    "    filename = 'directory/doc_{}.tsv'.format(i)\n",
    "    #[7,4,2,8] taking only the elements that I was=nt to show to the user --> ['Title','Description','City','Url']\n",
    "    df = df.append(pd.read_csv(filename,sep='\\t',header=None).T.loc[:,[7,4,2,8]],ignore_index=True)\n",
    "df.columns = cols\n",
    "df.index = list(range(1,len(documents_final)+1))"
   ]
  },
  {
   "cell_type": "code",
   "execution_count": 23,
   "metadata": {},
   "outputs": [
    {
     "data": {
      "text/html": [
       "<div>\n",
       "<style scoped>\n",
       "    .dataframe tbody tr th:only-of-type {\n",
       "        vertical-align: middle;\n",
       "    }\n",
       "\n",
       "    .dataframe tbody tr th {\n",
       "        vertical-align: top;\n",
       "    }\n",
       "\n",
       "    .dataframe thead th {\n",
       "        text-align: right;\n",
       "    }\n",
       "</style>\n",
       "<table border=\"1\" class=\"dataframe\">\n",
       "  <thead>\n",
       "    <tr style=\"text-align: right;\">\n",
       "      <th></th>\n",
       "      <th>Title</th>\n",
       "      <th>Description</th>\n",
       "      <th>City</th>\n",
       "      <th>Url</th>\n",
       "    </tr>\n",
       "  </thead>\n",
       "  <tbody>\n",
       "    <tr>\n",
       "      <th>1</th>\n",
       "      <td>Unique Location! Alamo Heights - Designer Insp...</td>\n",
       "      <td>Stylish, fully remodeled home in upscale NW – ...</td>\n",
       "      <td>San Antonio</td>\n",
       "      <td>https://www.airbnb.com/rooms/17481455?location...</td>\n",
       "    </tr>\n",
       "    <tr>\n",
       "      <th>2</th>\n",
       "      <td>River house near the city</td>\n",
       "      <td>'River house on island close to the city' \\nA ...</td>\n",
       "      <td>Houston</td>\n",
       "      <td>https://www.airbnb.com/rooms/16926307?location...</td>\n",
       "    </tr>\n",
       "    <tr>\n",
       "      <th>3</th>\n",
       "      <td>Private Room Close to Campus</td>\n",
       "      <td>Private bedroom in a cute little home situated...</td>\n",
       "      <td>Bryan</td>\n",
       "      <td>https://www.airbnb.com/rooms/11839729?location...</td>\n",
       "    </tr>\n",
       "    <tr>\n",
       "      <th>4</th>\n",
       "      <td>Friendly Private Room in َQuiet Neighborhood</td>\n",
       "      <td>This is a beautiful bedroom with a queen size ...</td>\n",
       "      <td>Fort Worth</td>\n",
       "      <td>https://www.airbnb.com/rooms/18977363?location...</td>\n",
       "    </tr>\n",
       "    <tr>\n",
       "      <th>5</th>\n",
       "      <td>Quiet Cozy Room</td>\n",
       "      <td>Gated Estate in the heart of the DFW metro. Se...</td>\n",
       "      <td>Euless</td>\n",
       "      <td>https://www.airbnb.com/rooms/4251773?location=...</td>\n",
       "    </tr>\n",
       "    <tr>\n",
       "      <th>6</th>\n",
       "      <td>A Cozy Home with a Beautiful Nature Views</td>\n",
       "      <td>This home is on the North Side of San Antonio,...</td>\n",
       "      <td>San Antonio</td>\n",
       "      <td>https://www.airbnb.com/rooms/19190311?location...</td>\n",
       "    </tr>\n",
       "    <tr>\n",
       "      <th>7</th>\n",
       "      <td>Cozy cottage charm,right in Kerrville!</td>\n",
       "      <td>My place is close to downtown Kerrville. Beaut...</td>\n",
       "      <td>Kerrville</td>\n",
       "      <td>https://www.airbnb.com/rooms/14694333?location...</td>\n",
       "    </tr>\n",
       "    <tr>\n",
       "      <th>8</th>\n",
       "      <td>2 bedrooms 1.5 bath in a great location.</td>\n",
       "      <td>This is new house with a hint of Texas Country...</td>\n",
       "      <td>New Braunfels</td>\n",
       "      <td>https://www.airbnb.com/rooms/18683743?location...</td>\n",
       "    </tr>\n",
       "    <tr>\n",
       "      <th>9</th>\n",
       "      <td>Ocean Getaway with Magnificent Views</td>\n",
       "      <td>My place is close to the beach, restaurants an...</td>\n",
       "      <td>Port Aransas</td>\n",
       "      <td>https://www.airbnb.com/rooms/17402254?location...</td>\n",
       "    </tr>\n",
       "    <tr>\n",
       "      <th>10</th>\n",
       "      <td>New Super Bowl House &amp; Luxury Car</td>\n",
       "      <td>4 Bedroom 3 Baths Sleeps 10-12 Theater Room Pl...</td>\n",
       "      <td>Katy</td>\n",
       "      <td>https://www.airbnb.com/rooms/17005150?location...</td>\n",
       "    </tr>\n",
       "    <tr>\n",
       "      <th>11</th>\n",
       "      <td>3/2 Home in Castlegate</td>\n",
       "      <td>Nice 3 bed, 2 bathroom home in the beautiful C...</td>\n",
       "      <td>College Station</td>\n",
       "      <td>https://www.airbnb.com/rooms/8419392?location=...</td>\n",
       "    </tr>\n",
       "    <tr>\n",
       "      <th>12</th>\n",
       "      <td>Historic Converted Carriage House</td>\n",
       "      <td>A converted carriage house walking distance to...</td>\n",
       "      <td>Denton</td>\n",
       "      <td>https://www.airbnb.com/rooms/16650025?location...</td>\n",
       "    </tr>\n",
       "    <tr>\n",
       "      <th>13</th>\n",
       "      <td>Fully Renovated Vacation Home in North Plano</td>\n",
       "      <td>This beautiful home located in a nice and conv...</td>\n",
       "      <td>Plano</td>\n",
       "      <td>https://www.airbnb.com/rooms/15028039?location...</td>\n",
       "    </tr>\n",
       "    <tr>\n",
       "      <th>14</th>\n",
       "      <td>The stars at night are amazing</td>\n",
       "      <td>The Bedroll Bunkhouse Ranch is nestled in on 3...</td>\n",
       "      <td>Breckenridge</td>\n",
       "      <td>https://www.airbnb.com/rooms/18584603?location...</td>\n",
       "    </tr>\n",
       "    <tr>\n",
       "      <th>15</th>\n",
       "      <td>Monroe Manor</td>\n",
       "      <td>Come relax on the water in our beautiful beach...</td>\n",
       "      <td>Houston</td>\n",
       "      <td>https://www.airbnb.com/rooms/19273801?location...</td>\n",
       "    </tr>\n",
       "    <tr>\n",
       "      <th>16</th>\n",
       "      <td>Summoner Sanctuary--Abilene Home Away From Home</td>\n",
       "      <td>Stylishly updated 3 bedroom house, convenientl...</td>\n",
       "      <td>Abilene</td>\n",
       "      <td>https://www.airbnb.com/rooms/19286138?location...</td>\n",
       "    </tr>\n",
       "    <tr>\n",
       "      <th>17</th>\n",
       "      <td>1920's Bungalow / Craftsman near Downtown</td>\n",
       "      <td>This house will have you feeling like you're s...</td>\n",
       "      <td>Fort Worth</td>\n",
       "      <td>https://www.airbnb.com/rooms/7255032?location=...</td>\n",
       "    </tr>\n",
       "    <tr>\n",
       "      <th>18</th>\n",
       "      <td>Beautiful 4 Br/4 Ba Home Near Major Highways</td>\n",
       "      <td>My home is in a very family oriented neighborh...</td>\n",
       "      <td>Allen</td>\n",
       "      <td>https://www.airbnb.com/rooms/9793383?location=...</td>\n",
       "    </tr>\n",
       "    <tr>\n",
       "      <th>19</th>\n",
       "      <td>Hackberry House</td>\n",
       "      <td>2 bedroom house. Sleeps 6 total. 2 Twin Sleepe...</td>\n",
       "      <td>Bandera</td>\n",
       "      <td>https://www.airbnb.com/rooms/14471311?location...</td>\n",
       "    </tr>\n",
       "    <tr>\n",
       "      <th>20</th>\n",
       "      <td>Warm, Cozy Private Room in North Fort Worth</td>\n",
       "      <td>Warm, Cozy house located in North of Fort Wort...</td>\n",
       "      <td>Fort Worth</td>\n",
       "      <td>https://www.airbnb.com/rooms/18359567?location...</td>\n",
       "    </tr>\n",
       "  </tbody>\n",
       "</table>\n",
       "</div>"
      ],
      "text/plain": [
       "                                                Title  \\\n",
       "1   Unique Location! Alamo Heights - Designer Insp...   \n",
       "2                           River house near the city   \n",
       "3                        Private Room Close to Campus   \n",
       "4        Friendly Private Room in َQuiet Neighborhood   \n",
       "5                                     Quiet Cozy Room   \n",
       "6           A Cozy Home with a Beautiful Nature Views   \n",
       "7              Cozy cottage charm,right in Kerrville!   \n",
       "8            2 bedrooms 1.5 bath in a great location.   \n",
       "9                Ocean Getaway with Magnificent Views   \n",
       "10                  New Super Bowl House & Luxury Car   \n",
       "11                             3/2 Home in Castlegate   \n",
       "12                  Historic Converted Carriage House   \n",
       "13       Fully Renovated Vacation Home in North Plano   \n",
       "14                     The stars at night are amazing   \n",
       "15                                       Monroe Manor   \n",
       "16    Summoner Sanctuary--Abilene Home Away From Home   \n",
       "17          1920's Bungalow / Craftsman near Downtown   \n",
       "18       Beautiful 4 Br/4 Ba Home Near Major Highways   \n",
       "19                                    Hackberry House   \n",
       "20        Warm, Cozy Private Room in North Fort Worth   \n",
       "\n",
       "                                          Description             City  \\\n",
       "1   Stylish, fully remodeled home in upscale NW – ...      San Antonio   \n",
       "2   'River house on island close to the city' \\nA ...          Houston   \n",
       "3   Private bedroom in a cute little home situated...            Bryan   \n",
       "4   This is a beautiful bedroom with a queen size ...       Fort Worth   \n",
       "5   Gated Estate in the heart of the DFW metro. Se...           Euless   \n",
       "6   This home is on the North Side of San Antonio,...      San Antonio   \n",
       "7   My place is close to downtown Kerrville. Beaut...        Kerrville   \n",
       "8   This is new house with a hint of Texas Country...    New Braunfels   \n",
       "9   My place is close to the beach, restaurants an...     Port Aransas   \n",
       "10  4 Bedroom 3 Baths Sleeps 10-12 Theater Room Pl...             Katy   \n",
       "11  Nice 3 bed, 2 bathroom home in the beautiful C...  College Station   \n",
       "12  A converted carriage house walking distance to...           Denton   \n",
       "13  This beautiful home located in a nice and conv...            Plano   \n",
       "14  The Bedroll Bunkhouse Ranch is nestled in on 3...     Breckenridge   \n",
       "15  Come relax on the water in our beautiful beach...          Houston   \n",
       "16  Stylishly updated 3 bedroom house, convenientl...          Abilene   \n",
       "17  This house will have you feeling like you're s...       Fort Worth   \n",
       "18  My home is in a very family oriented neighborh...            Allen   \n",
       "19  2 bedroom house. Sleeps 6 total. 2 Twin Sleepe...          Bandera   \n",
       "20  Warm, Cozy house located in North of Fort Wort...       Fort Worth   \n",
       "\n",
       "                                                  Url  \n",
       "1   https://www.airbnb.com/rooms/17481455?location...  \n",
       "2   https://www.airbnb.com/rooms/16926307?location...  \n",
       "3   https://www.airbnb.com/rooms/11839729?location...  \n",
       "4   https://www.airbnb.com/rooms/18977363?location...  \n",
       "5   https://www.airbnb.com/rooms/4251773?location=...  \n",
       "6   https://www.airbnb.com/rooms/19190311?location...  \n",
       "7   https://www.airbnb.com/rooms/14694333?location...  \n",
       "8   https://www.airbnb.com/rooms/18683743?location...  \n",
       "9   https://www.airbnb.com/rooms/17402254?location...  \n",
       "10  https://www.airbnb.com/rooms/17005150?location...  \n",
       "11  https://www.airbnb.com/rooms/8419392?location=...  \n",
       "12  https://www.airbnb.com/rooms/16650025?location...  \n",
       "13  https://www.airbnb.com/rooms/15028039?location...  \n",
       "14  https://www.airbnb.com/rooms/18584603?location...  \n",
       "15  https://www.airbnb.com/rooms/19273801?location...  \n",
       "16  https://www.airbnb.com/rooms/19286138?location...  \n",
       "17  https://www.airbnb.com/rooms/7255032?location=...  \n",
       "18  https://www.airbnb.com/rooms/9793383?location=...  \n",
       "19  https://www.airbnb.com/rooms/14471311?location...  \n",
       "20  https://www.airbnb.com/rooms/18359567?location...  "
      ]
     },
     "execution_count": 23,
     "metadata": {},
     "output_type": "execute_result"
    }
   ],
   "source": [
    "df.head(20)"
   ]
  },
  {
   "cell_type": "code",
   "execution_count": null,
   "metadata": {},
   "outputs": [],
   "source": []
  }
 ],
 "metadata": {
  "kernelspec": {
   "display_name": "Python 3",
   "language": "python",
   "name": "python3"
  },
  "language_info": {
   "codemirror_mode": {
    "name": "ipython",
    "version": 3
   },
   "file_extension": ".py",
   "mimetype": "text/x-python",
   "name": "python",
   "nbconvert_exporter": "python",
   "pygments_lexer": "ipython3",
   "version": "3.6.5"
  }
 },
 "nbformat": 4,
 "nbformat_minor": 2
}
